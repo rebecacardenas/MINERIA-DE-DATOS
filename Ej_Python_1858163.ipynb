{
 "cells": [
  {
   "cell_type": "markdown",
   "metadata": {},
   "source": [
    "Ejercicio 1: Realiza una variable con tu matricula y realiza una secuencia de imprimir con tu nombre y tu matricula concatenados."
   ]
  },
  {
   "cell_type": "code",
   "execution_count": 1,
   "metadata": {
    "scrolled": true
   },
   "outputs": [
    {
     "name": "stdout",
     "output_type": "stream",
     "text": [
      "Introduce tu matricula: 1858163\n",
      "Introduce tu nombre completo: Rebeca Cárdenas\n",
      "\n",
      " 1858163, Rebeca Cárdenas\n"
     ]
    }
   ],
   "source": [
    "mat = str(input(\"Introduce tu matricula: \" ))\n",
    "name = str(input(\"Introduce tu nombre completo: \"))\n",
    "\n",
    "alumno = mat + ', ' + name\n",
    "print (\"\\n\", alumno)\n"
   ]
  },
  {
   "cell_type": "markdown",
   "metadata": {},
   "source": [
    "Ejercicio 2: Pidiendo el input del usuario pide dos números y crea una pequeña calculadora con los operadores básicos de suma, resta, multiplicación, división, y exponente."
   ]
  },
  {
   "cell_type": "code",
   "execution_count": 13,
   "metadata": {},
   "outputs": [
    {
     "name": "stdout",
     "output_type": "stream",
     "text": [
      "\n",
      "\t\t\tCALCULADORA\n",
      "\n",
      " 1) Suma\n",
      " 2) Resta\n",
      " 3) Multiplicación\n",
      " 4) División\n",
      " 5) Exponente\n",
      " 6) Salir\n",
      "\n",
      "Elige una opcion: 4\n",
      "Introduce el primer número: 99\n",
      "Introduce el segundo número: 0\n",
      "\n",
      "No se puede realizar esta operación\n",
      "\n",
      "\t\t\tCALCULADORA\n",
      "\n",
      " 1) Suma\n",
      " 2) Resta\n",
      " 3) Multiplicación\n",
      " 4) División\n",
      " 5) Exponente\n",
      " 6) Salir\n",
      "\n",
      "Elige una opcion: 5\n",
      "Introduce el primer número: 2\n",
      "Introduce el segundo número: 5\n",
      "\n",
      " 2.0 elevado a la potencia  5.0 es:  32.0\n",
      "\n",
      "\t\t\tCALCULADORA\n",
      "\n",
      " 1) Suma\n",
      " 2) Resta\n",
      " 3) Multiplicación\n",
      " 4) División\n",
      " 5) Exponente\n",
      " 6) Salir\n",
      "\n",
      "Elige una opcion: 6\n"
     ]
    }
   ],
   "source": [
    "# x = float(input(\"Introduce el primer número: \"))\n",
    "# y = float(input(\"Introduce el segundo número: \"))\n",
    "\n",
    "# print(\"\\n\\nRESULTADOS\\n\")\n",
    "# print(\"La suma de \", x, \"y \", y, \"es: \", x+y)\n",
    "# print(\"La resta de \", x, \"y \", y, \"es: \", x-y)\n",
    "# print(\"El producto de \", x, \"y \", y, \"es: \", x*y)  \n",
    "# if y==0:\n",
    "#     print(\"No se puede realizar esta operación, división entre cero\")\n",
    "# else:\n",
    "#     print(\"El cociente de \", x, \"y \", y, \"es: \", x/y)\n",
    "\n",
    "# print(x, \"elevado a la potencia \", y, \"es: \", x**y)\n",
    "\n",
    "def menu():\n",
    "    \"\"\"Función que muestra el menu de la calculadora\"\"\"\n",
    "    print(\"\\n\\t\\t\\tCALCULADORA\")\n",
    "    print(\"\\n 1) Suma\\n 2) Resta\\n 3) Multiplicación\\n 4) División\\n 5) Exponente\\n 6) Salir\")\n",
    "    return \n",
    "\n",
    "op = 0\n",
    "\n",
    "\n",
    "while op != 6:\n",
    "    menu() \n",
    "    op = int(input(\"\\nElige una opcion: \"))\n",
    "    \n",
    "    if op == 6 :\n",
    "        break    \n",
    "        \n",
    "    x = float(input(\"Introduce el primer número: \"))\n",
    "    y = float(input(\"Introduce el segundo número: \"))\n",
    "       \n",
    "    if op == 1:\n",
    "         print(\"\\nLa suma de \", x, \"y \", y, \"es: \", x+y)\n",
    "    elif op == 2:    \n",
    "        print(\"\\nLa resta de \", x, \"y \", y, \"es: \", x-y)\n",
    "    elif op == 3:    \n",
    "        print(\"\\nEl producto de \", x, \"y \", y, \"es: \", x*y)  \n",
    "    elif op == 4:\n",
    "        if y==0:\n",
    "            print(\"\\nNo se puede realizar esta operación\")\n",
    "        else:\n",
    "            print(\"\\nEl cociente de \", x, \"y \", y, \"es: \", x/y)\n",
    "    elif op == 5:    \n",
    "        print(\"\\n\", x, \"elevado a la potencia \", y, \"es: \", x**y)\n",
    "    else:\n",
    "        print(\"Error, introduce un número entero entre el 1 y el 6\")\n"
   ]
  },
  {
   "cell_type": "markdown",
   "metadata": {},
   "source": [
    "Ejercicio 3: Con loop while o for, realiza una lista de 10 numeros multiplos de 3, y después realiza una función de loop que sume todos los números dentro del arreglo."
   ]
  },
  {
   "cell_type": "code",
   "execution_count": 22,
   "metadata": {},
   "outputs": [
    {
     "name": "stdout",
     "output_type": "stream",
     "text": [
      "\n",
      "Primeros 10 multiplos del 3 son:  [3, 6, 9, 12, 15, 18, 21, 24, 27, 30]\n",
      "\n",
      "La suma de los primeros 10 multiplos de 3 es:  165\n"
     ]
    }
   ],
   "source": [
    "i=3\n",
    "cont=0\n",
    "suma=0\n",
    "multiplos=[ ]\n",
    "\n",
    "while cont < 10:\n",
    "    if i%3==0:\n",
    "        multiplos.append(i)\n",
    "        suma=suma+i\n",
    "        cont=cont+1\n",
    "    i=i+1\n",
    "\n",
    "print(\"\\nPrimeros 10 multiplos del 3 son: \", multiplos)\n",
    "print(\"\\nLa suma de los primeros 10 multiplos de 3 es: \", suma)"
   ]
  },
  {
   "cell_type": "markdown",
   "metadata": {},
   "source": [
    "Ejercicio 4:\n",
    "Con una función de if else, revisar si un número es par o es impar.\n",
    "Con una función de if else, revisar si un número es primo o no."
   ]
  },
  {
   "cell_type": "code",
   "execution_count": 6,
   "metadata": {},
   "outputs": [
    {
     "name": "stdout",
     "output_type": "stream",
     "text": [
      "Introduce un número: 2\n",
      "\n",
      " 2 es un número par.\n",
      "\n",
      " 2 es un número primo.\n"
     ]
    }
   ],
   "source": [
    "num = int(input(\"Introduce un número: \"))\n",
    "\n",
    "if num%2==0:\n",
    "    print(\"\\n\", num, \"es un número par.\")\n",
    "else:\n",
    "    print(\"\\n\", num, \"es un número impar.\")\n",
    "    \n",
    "cont=0\n",
    "for n in range (1, num+1):\n",
    "    if num%n==0:\n",
    "        cont=cont+1\n",
    "\n",
    "if cont==2:\n",
    "    print(\"\\n\", num, \"es un número primo.\")\n",
    "else:\n",
    "    print(\"\\n\", num, \"no es un número primo.\")\n",
    "    \n",
    "        "
   ]
  },
  {
   "cell_type": "markdown",
   "metadata": {},
   "source": [
    "Ejercicio 5: Utilizando diferentes clases en python, crea una calculadora con los operadores básicos de suma, resta, multiplicación, división, y exponente."
   ]
  },
  {
   "cell_type": "code",
   "execution_count": 14,
   "metadata": {},
   "outputs": [
    {
     "name": "stdout",
     "output_type": "stream",
     "text": [
      "\n",
      "\t\t\tCALCULADORA\n",
      "\n",
      " 1) Suma\n",
      " 2) Resta\n",
      " 3) Multiplicación\n",
      " 4) División\n",
      " 5) Exponente\n",
      "\n",
      "\n",
      "Elige una opcion: 3\n",
      "Introduce el primer número: 8\n",
      "Introduce el segundo número: 6\n",
      "\n",
      "El resultado de la operación es:  48.0\n"
     ]
    }
   ],
   "source": [
    "\n",
    "print(\"\\n\\t\\t\\tCALCULADORA\")\n",
    "print(\"\\n 1) Suma\\n 2) Resta\\n 3) Multiplicación\\n 4) División\\n 5) Exponente\\n\")\n",
    "op = int(input(\"\\nElige una opcion: \"))\n",
    "\n",
    "def Suma(x,y):\n",
    "    return (x+y)\n",
    "def Resta(x,y):\n",
    "    return (x-y)\n",
    "def Mult(x,y):\n",
    "    return (x*y)\n",
    "def Div(x,y):\n",
    "    return (x/y)\n",
    "def Exponente(x,y):\n",
    "    return (x**y)\n",
    "\n",
    "x = float(input(\"Introduce el primer número: \"))\n",
    "y = float(input(\"Introduce el segundo número: \"))\n",
    "\n",
    "z=0\n",
    "if op == 1:\n",
    "     z= Suma(x,y)\n",
    "elif op == 2:    \n",
    "     z= Resta(x,y)\n",
    "elif op == 3:    \n",
    "     z= Mult(x,y) \n",
    "elif op == 4:    \n",
    "     z= Div(x,y)\n",
    "elif op == 5:    \n",
    "     z= Exponente(x,y)   \n",
    "else:\n",
    "    print (\"\\nError, introduce un numero del 1 al 5\")\n",
    "    \n",
    "    \n",
    "print(\"\\nEl resultado de la operación es: \", z)"
   ]
  },
  {
   "cell_type": "markdown",
   "metadata": {},
   "source": [
    "Tuplas: \n",
    "Crear una variable flotante, integer, boleana y compleja e imprimir el tipo de variable que es.\n",
    "\n",
    "Crear una tupla con valores enteros imprimir el primer y ultimo valor.\n",
    "\n",
    "Añadir 3 valores de string a la tupla.\n",
    "\n",
    "Verificar si una variable existe dentro de la tupla."
   ]
  },
  {
   "cell_type": "code",
   "execution_count": 34,
   "metadata": {},
   "outputs": [
    {
     "name": "stdout",
     "output_type": "stream",
     "text": [
      "f=  5.36 es una variable de tipo: <class 'float'>\n",
      "i=  2 es una variable de tipo: <class 'int'>\n",
      "b=  True es una variable de tipo: <class 'bool'>\n",
      "c=  (4-3j) es una variable de tipo: <class 'complex'>\n",
      "\n",
      "El primer  valor de la tupla es: 1\n",
      "El ultimo  valor de la tupla es: 5\n",
      "\n",
      "Tupla completa: \n",
      " (1, 2, 3, 4, 5, 'hola', 'como', 'estas')\n",
      "\n",
      "Esta el numero 3 en la tupla?\n",
      "False\n"
     ]
    }
   ],
   "source": [
    "f = 5.36\n",
    "i = 2\n",
    "b = True\n",
    "c = 4-3j\n",
    "\n",
    "print(\"f= \", f, \"es una variable de tipo:\", type(f))\n",
    "print(\"i= \", i, \"es una variable de tipo:\", type(i))\n",
    "print(\"b= \", b, \"es una variable de tipo:\", type(b))\n",
    "print(\"c= \", c, \"es una variable de tipo:\", type(c))\n",
    "\n",
    "tupla = (1, 2, 3, 4, 5)\n",
    "print(\"\\nEl primer  valor de la tupla es:\", tupla[0])\n",
    "print(\"El ultimo  valor de la tupla es:\", tupla[4])\n",
    "\n",
    "tupla = tupla.__add__(('hola', 'como', 'estas'))\n",
    "print(\"\\nTupla completa: \\n\", tupla)\n",
    "\n",
    "print(\"\\nEsta el numero 3 en la tupla?\")\n",
    "print('3' in tupla)"
   ]
  },
  {
   "cell_type": "markdown",
   "metadata": {},
   "source": [
    "Listas: \n",
    "Crear una lista con 40 elementos aleatorios enteros.\n",
    "\n",
    "Con una funcion (def) crear dos listas nuevas a partir de la lista creada por numeros aleatorios, en la cual en una esten los elementos pares, y en la otra los elementos impares.\n",
    "\n",
    "Crear dos variables con la longitud de ambas listas nuevas e imprimir las variables.\n",
    "\n",
    "Ordenar los elementos de la lista par de mayor a menor, y los de la lista impar de menor a mayor.\n",
    "\n",
    "Utilizar al menos cuatro de las funciones de listas en python en la lista original de 40 elementos."
   ]
  },
  {
   "cell_type": "code",
   "execution_count": 69,
   "metadata": {},
   "outputs": [
    {
     "name": "stdout",
     "output_type": "stream",
     "text": [
      "\n",
      "Lista de total de elementos:\n",
      " [13, 80, 919, 67, 326, 192, 564, 228, 489, 757, 519, 938, 926, 491, 630, 749, 833, 833, 42, 328, 349, 129, 432, 117, 2, 890, 503, 738, 928, 641, 309, 420, 682, 491, 775, 951, 342, 898, 71, 273]\n",
      "\n",
      "La lista con numeros pares es:\n",
      " [80, 326, 192, 564, 228, 938, 926, 630, 42, 328, 432, 2, 890, 738, 928, 420, 682, 342, 898]\n",
      "\n",
      "La longitud de la lista con numeros pares es:\n",
      " 19\n",
      "\n",
      "La de la lista con numeros pares ordenada de mayor a menor es:\n",
      " [938, 928, 926, 898, 890, 738, 682, 630, 564, 432, 420, 342, 328, 326, 228, 192, 80, 42, 2]\n",
      "\n",
      "La lista con numeros impares es:\n",
      " [13, 919, 67, 489, 757, 519, 491, 749, 833, 833, 349, 129, 117, 503, 641, 309, 491, 775, 951, 71, 273]\n",
      "\n",
      "La longitud de la lista con numeros impares es:\n",
      " 21\n",
      "\n",
      "La longitud de la lista con numeros impares de menor a mayor es:\n",
      " [13, 67, 71, 117, 129, 273, 309, 349, 489, 491, 491, 503, 519, 641, 749, 757, 775, 833, 833, 919, 951]\n",
      "\n",
      "Nueva lista de total de elementos:\n",
      " [888888888888, 273, 71, 898, 342, 951, 775, 491, 682, 420, 309, 641, 928, 738, 503, 890, 2, 117, 432, 129, 349, 328, 42, 833, 833, 749, 630, 491, 926, 938, 519, 757, 489, 228, 564, 192, 326, 67, 919, 80, 0, 1, 2, 3, 4]\n"
     ]
    }
   ],
   "source": [
    "import random\n",
    "lista = []\n",
    "for i in range (40):\n",
    "    x= random.randint(0,1000)\n",
    "    lista.append(x)\n",
    "\n",
    "def lpares(lista):\n",
    "    pares = []\n",
    "    for n in lista:\n",
    "        if n % 2 == 0:\n",
    "            pares.append(n)\n",
    "    return pares \n",
    "\n",
    "def limpares(lista):\n",
    "    impares = []\n",
    "    for n in lista:\n",
    "        if n % 2 != 0:\n",
    "            impares.append(n)\n",
    "    return impares \n",
    "    \n",
    "\n",
    "x=lpares(lista)\n",
    "y=limpares(lista)\n",
    "\n",
    "print(\"\\nLista de total de elementos:\\n\", lista)\n",
    "\n",
    "print(\"\\nLa lista con numeros pares es:\\n\", x)\n",
    "print(\"\\nLa longitud de la lista con numeros pares es:\\n\", len(x))\n",
    "print(\"\\nLa de la lista con numeros pares ordenada de mayor a menor es:\\n\", sorted(x, reverse=True))\n",
    "\n",
    "print(\"\\nLa lista con numeros impares es:\\n\", y)\n",
    "print(\"\\nLa longitud de la lista con numeros impares es:\\n\", len(y))\n",
    "print(\"\\nLa longitud de la lista con numeros impares de menor a mayor es:\\n\", sorted(y))\n",
    "\n",
    "\n",
    "lista.append(888888888888)\n",
    "lista.reverse()\n",
    "lista.pop()\n",
    "lista.extend([0,1,2,3,4])\n",
    "\n",
    "print(\"\\nNueva lista de total de elementos:\\n\", lista)    "
   ]
  },
  {
   "cell_type": "markdown",
   "metadata": {},
   "source": [
    "Diccionarios: \n",
    "Crear un diccionario de 6 personas que conozcas con su primer nombre y su edad.\n",
    "\n",
    "Crear una lista con los valores de la edad y reacomodar la lista de menor a mayor valor.\n",
    "\n",
    "Usando el diccionario y un loop, imprimir solo los nombres.\n",
    "\n",
    "Añadir dos personas nuevas a tu diccionario, incluyendo edad."
   ]
  },
  {
   "cell_type": "code",
   "execution_count": 15,
   "metadata": {},
   "outputs": [
    {
     "name": "stdout",
     "output_type": "stream",
     "text": [
      "Edades de menor a mayor:  [16, 19, 20, 22, 28, 47] \n",
      "\n",
      "\n",
      "Nombres: \n",
      "\n",
      "Rebeca Cárdenas\n",
      "Lorena Elizondo\n",
      "Vanessa Leal\n",
      "Carlos Martell\n",
      "Andrea Charles\n",
      "Jimena Cardenas\n",
      "\n",
      "\n",
      "Nueva lista de nombres: \n",
      "\n",
      "Rebeca Cárdenas\n",
      "Lorena Elizondo\n",
      "Vanessa Leal\n",
      "Carlos Martell\n",
      "Andrea Charles\n",
      "Jimena Cardenas\n",
      "Saul Lopez\n",
      "Alma Flores\n"
     ]
    }
   ],
   "source": [
    "dic = {'Rebeca Cárdenas':19, 'Lorena Elizondo': 47, 'Vanessa Leal':20, 'Carlos Martell':28, 'Andrea Charles': 22, 'Jimena Cardenas':16}\n",
    "\n",
    "print(\"Edades de menor a mayor: \", sorted(dic.values()), \"\\n\")\n",
    "\n",
    "print(\"\\nNombres: \\n\")\n",
    "for i in dic: \n",
    "    print(i)\n",
    "    \n",
    "dic['Saul Lopez'] = 24\n",
    "dic['Alma Flores'] = 76\n",
    "\n",
    "print(\"\\n\\nNueva lista de nombres: \\n\")\n",
    "for i in dic: \n",
    "    print(i)"
   ]
  },
  {
   "cell_type": "markdown",
   "metadata": {},
   "source": [
    "Sets: \n",
    "Crea un set con 100 numeros aleatorios enteros del 1 al 25.\n",
    "\n",
    "Comprueba la longitud de tu set.\n",
    "\n",
    "Crea una lista de 5 numeros aleatorios del 1 al 10 y comprueba si cada valor aparece en el set inicial."
   ]
  },
  {
   "cell_type": "code",
   "execution_count": 29,
   "metadata": {},
   "outputs": [
    {
     "name": "stdout",
     "output_type": "stream",
     "text": [
      "\n",
      "Los elementos de la lista original son: \n",
      " [19, 2, 5, 7, 24, 16, 13, 4, 4, 2, 3, 20, 20, 1, 7, 12, 7, 20, 1, 4, 7, 14, 1, 14, 11, 20, 20, 9, 5, 17, 24, 1, 9, 22, 21, 14, 11, 16, 11, 2, 15, 8, 24, 22, 12, 15, 1, 2, 21, 7, 8, 2, 4, 1, 5, 23, 14, 16, 22, 24, 8, 9, 8, 5, 16, 23, 5, 3, 23, 23, 9, 23, 18, 2, 6, 13, 14, 13, 19, 12, 20, 12, 25, 18, 16, 8, 4, 14, 18, 1, 23, 15, 4, 11, 14, 20, 18, 18, 12, 13]\n",
      "\n",
      "La longitud del set es:  24\n",
      "\n",
      "Los elementos del set son: \n",
      " {1, 2, 3, 4, 5, 6, 7, 8, 9, 11, 12, 13, 14, 15, 16, 17, 18, 19, 20, 21, 22, 23, 24, 25}\n",
      "\n",
      "Los elementos de la lista son: \n",
      " [5, 10, 2, 4, 2] \n",
      "\n",
      "El número  5 si esta en el set \n",
      "El número  10 si esta en el set \n",
      "El número  2 si esta en el set \n",
      "El número  4 si esta en el set \n",
      "El número  2 si esta en el set \n"
     ]
    }
   ],
   "source": [
    "import random\n",
    "\n",
    "l100= []\n",
    "\n",
    "for i in range (100):\n",
    "    x= random.randint(1,25)\n",
    "    l100.append(x)\n",
    "\n",
    "set1=set(l100)\n",
    "\n",
    "print(\"\\nLos elementos de la lista original son: \\n\", l100)\n",
    "    \n",
    "print(\"\\nLa longitud del set es: \", len(set1))\n",
    "\n",
    "l5 = []\n",
    "\n",
    "for i in range (5):\n",
    "    x= random.randint(1,10)\n",
    "    l5.append(x)\n",
    "\n",
    "print(\"\\nLos elementos del set son: \\n\", set1)\n",
    "print(\"\\nLos elementos de la lista son: \\n\", l5, \"\\n\")\n",
    "\n",
    "for i in l5:\n",
    "    if i in l5:\n",
    "        print(\"El número \", i, \"si esta en el set \")\n",
    "    else:\n",
    "        print(\"El número \", i, \"no esta en el set \")\n"
   ]
  }
 ],
 "metadata": {
  "kernelspec": {
   "display_name": "Python 3",
   "language": "python",
   "name": "python3"
  },
  "language_info": {
   "codemirror_mode": {
    "name": "ipython",
    "version": 3
   },
   "file_extension": ".py",
   "mimetype": "text/x-python",
   "name": "python",
   "nbconvert_exporter": "python",
   "pygments_lexer": "ipython3",
   "version": "3.8.5"
  }
 },
 "nbformat": 4,
 "nbformat_minor": 4
}
